{
 "cells": [
  {
   "cell_type": "markdown",
   "id": "0aa7f1b7-a443-4b00-b737-ea00d8bc0839",
   "metadata": {},
   "source": [
    "## Part 1"
   ]
  },
  {
   "cell_type": "markdown",
   "id": "986e01ac-ceae-4506-ab6f-4543e52dfd38",
   "metadata": {},
   "source": [
    "#### Import test file and convert to a list of lists"
   ]
  },
  {
   "cell_type": "code",
   "execution_count": null,
   "id": "c29a7315-1d56-4f2d-8410-8e4fb3561f78",
   "metadata": {},
   "outputs": [],
   "source": [
    "test_file = open(\"day2_test.txt\", \"r\")\n",
    "test_lines = [[int(num) for num in row.split()] for row in test_file.read().split('\\n')]\n",
    "print(test_lines)"
   ]
  },
  {
   "cell_type": "markdown",
   "id": "8851b544-caed-4417-90cd-0fb912e49b98",
   "metadata": {},
   "source": [
    "#### Check if the difference between consecutive elements is {1, 2, or 3} or {-1, -2, or -3}\n",
    "\n",
    "Modified from code from my [Rainbowbot repo](https://github.com/mycarta/rainbowbot/blob/master/color_reduction_and_perceptual_test.ipynb)."
   ]
  },
  {
   "cell_type": "code",
   "execution_count": null,
   "id": "83084102-606c-4838-8255-f4368b02208f",
   "metadata": {},
   "outputs": [],
   "source": [
    "def pairwise(seq):\n",
    "    items = iter(seq)\n",
    "    last = next(items)\n",
    "    for item in items:\n",
    "        yield last, item\n",
    "        last = item\n",
    "\n",
    "def strictly_increasing123(L):\n",
    "    # Check if the difference between consecutive elements is 1, 2, or 3\n",
    "    return all(1 <= (y - x) <= 3 for x, y in pairwise(L))\n",
    "\n",
    "def strictly_decreasing123(L):\n",
    "    # Check if the difference between consecutive elements is -1, -2, or -3\n",
    "    return all(-3 <= (y - x) <= -1 for x, y in pairwise(L))"
   ]
  },
  {
   "cell_type": "code",
   "execution_count": null,
   "id": "e4e167fe-0dea-43f9-847b-0e6bae6e7d47",
   "metadata": {},
   "outputs": [],
   "source": [
    "[l for l in test_lines]"
   ]
  },
  {
   "cell_type": "code",
   "execution_count": null,
   "id": "1f7a936c-9879-4de2-b617-03e8bfcd261d",
   "metadata": {},
   "outputs": [],
   "source": [
    "[strictly_increasing123(l) for l in test_lines]"
   ]
  },
  {
   "cell_type": "code",
   "execution_count": null,
   "id": "44ea4d4a-5927-491b-8613-d96da0ae137b",
   "metadata": {},
   "outputs": [],
   "source": [
    "[strictly_decreasing123(l) for l in test_lines]"
   ]
  },
  {
   "cell_type": "code",
   "execution_count": null,
   "id": "d93065fa-85af-43a0-bbe8-d4d9c7364269",
   "metadata": {},
   "outputs": [],
   "source": [
    "sum([strictly_increasing123(l) for l in test_lines]) + sum ([strictly_decreasing123(l) for l in test_lines])"
   ]
  },
  {
   "cell_type": "markdown",
   "id": "e11e5182-e174-4225-b56f-a45a4f6d42d0",
   "metadata": {},
   "source": [
    "#### Import full file"
   ]
  },
  {
   "cell_type": "code",
   "execution_count": null,
   "id": "75f0e150-ca99-401a-8784-3f2a8582db50",
   "metadata": {},
   "outputs": [],
   "source": [
    "text_file = open(\"day2_part1.txt\", \"r\")\n",
    "lines = [[int(num) for num in row.split()] for row in text_file.read().split('\\n')]\n",
    "print(lines[:5])\n"
   ]
  },
  {
   "cell_type": "raw",
   "id": "297d71f2-ee99-4c89-9c99-ec9cbdc174f1",
   "metadata": {
    "vscode": {
     "languageId": "raw"
    }
   },
   "source": [
    "# do not run this cll!\n",
    "\n",
    "sum([strictly_increasing123(l) for l in lines]) + sum ([strictly_decreasing123(l) for l in lines])"
   ]
  },
  {
   "cell_type": "markdown",
   "id": "47ae28c8-0aca-4494-a0b5-32201d5d51b0",
   "metadata": {},
   "source": [
    "#### This is necessary otherwise `pairwise` in the cell above would throw a `StopIteration` exception\n",
    "It happens because when `next` \"consumes\" the iterator the iterator is empty: the last line in `lines` is empty, hence there is no \"next\" item for `next`"
   ]
  },
  {
   "cell_type": "code",
   "execution_count": null,
   "id": "4ad8d9f5-4fb2-48c5-a556-f73e18cb660a",
   "metadata": {},
   "outputs": [],
   "source": [
    "print(lines[-1])  # last row returned is []\n",
    "print(lines[-2])\n",
    "print(lines[-3])"
   ]
  },
  {
   "cell_type": "code",
   "execution_count": null,
   "id": "39501e4e-b602-43ee-9764-be8e6d6691c6",
   "metadata": {},
   "outputs": [],
   "source": [
    "reports = lines[:-1]"
   ]
  },
  {
   "cell_type": "code",
   "execution_count": null,
   "id": "01068b4c-0f55-4d73-be65-fffec0ec5d7a",
   "metadata": {},
   "outputs": [],
   "source": [
    "sum([strictly_increasing123(r) for r in reports]) + sum ([strictly_decreasing123(r) for r in reports])"
   ]
  },
  {
   "cell_type": "markdown",
   "id": "05b544f8-7987-4199-b1de-789becbfa711",
   "metadata": {},
   "source": [
    "## Part 2"
   ]
  },
  {
   "cell_type": "code",
   "execution_count": null,
   "id": "ce863b4d-c8e8-4bd1-8213-e69428479e5d",
   "metadata": {},
   "outputs": [],
   "source": [
    "[el for el in (pairwise([1,3,2,4,5,4]))]"
   ]
  },
  {
   "cell_type": "code",
   "execution_count": null,
   "id": "dc3a2b7e-9692-4f76-a466-c0edbde52dfb",
   "metadata": {},
   "outputs": [],
   "source": [
    "test1 = [(1 <= (y - x) <= 3) for x, y in pairwise([1,3,2,1,4,5])]\n",
    "test1"
   ]
  },
  {
   "cell_type": "code",
   "execution_count": null,
   "id": "e634eda4-6107-48a9-8b57-c04fba92b0fd",
   "metadata": {},
   "outputs": [],
   "source": [
    "test1_mod = [p for (p, t) in zip(pairwise([1,3,2,4,5]), test1) if t]\n",
    "test1_mod"
   ]
  },
  {
   "cell_type": "code",
   "execution_count": null,
   "id": "3d4d6d69-3441-4fb8-bdf7-ec61b61b12ea",
   "metadata": {},
   "outputs": [],
   "source": [
    "test2 = [(1 <= (y - x) <= 3) for x, y in test1_mod]\n",
    "test2"
   ]
  },
  {
   "cell_type": "markdown",
   "id": "3fd08810-673c-4294-8397-89630b6fe996",
   "metadata": {},
   "source": [
    "#### The above does not work because it removes all bad levls at once. That's not good"
   ]
  },
  {
   "cell_type": "markdown",
   "id": "8e9b038f-484f-484a-8cdc-6c524ee91a0c",
   "metadata": {},
   "source": [
    "#### Instead use a loop or recursion: find first one, get rid of it with something like list.remove()"
   ]
  },
  {
   "cell_type": "markdown",
   "id": "01ce8674",
   "metadata": {},
   "source": [
    "#### Some brainstorming idea below"
   ]
  },
  {
   "cell_type": "code",
   "execution_count": null,
   "id": "16f446c8-d532-4cc3-9d23-20d439f467c3",
   "metadata": {},
   "outputs": [],
   "source": [
    "test1 = [(x, y, (1 <= (y - x) <= 3)) for x, y in pairwise([1,3,2,1,4,5])]\n",
    "test1"
   ]
  },
  {
   "cell_type": "code",
   "execution_count": null,
   "id": "d6e08d66-befe-4e41-809a-f46cd285b46d",
   "metadata": {},
   "outputs": [],
   "source": [
    "print(test1[0][2])\n",
    "print(test1[1][2])"
   ]
  },
  {
   "cell_type": "code",
   "execution_count": null,
   "id": "b5019b29-310d-4e2e-8e41-06661ddbbdd5",
   "metadata": {},
   "outputs": [],
   "source": [
    "def check(test1):\n",
    "    count = 0\n",
    "    for t in test1:\n",
    "        if len(t) == 2 and t[1] == False:  \n",
    "            count += 1\n",
    "        if count == 2:  # If count reaches 2, set bol to False and break\n",
    "            return False\n",
    "    return True  # If the loop completes without count reaching 2, return True"
   ]
  },
  {
   "cell_type": "markdown",
   "id": "3a76caf0-ff4b-43aa-8786-9c95977a4434",
   "metadata": {},
   "source": [
    "## Will be back soon\n"
   ]
  },
  {
   "cell_type": "markdown",
   "id": "8696944c",
   "metadata": {},
   "source": []
  }
 ],
 "metadata": {
  "kernelspec": {
   "display_name": "Python [conda env:base] *",
   "language": "python",
   "name": "conda-base-py"
  },
  "language_info": {
   "codemirror_mode": {
    "name": "ipython",
    "version": 3
   },
   "file_extension": ".py",
   "mimetype": "text/x-python",
   "name": "python",
   "nbconvert_exporter": "python",
   "pygments_lexer": "ipython3",
   "version": "3.12.3"
  }
 },
 "nbformat": 4,
 "nbformat_minor": 5
}
