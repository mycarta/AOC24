{
 "cells": [
  {
   "cell_type": "markdown",
   "id": "cd754c09-1414-4d52-aa12-16f3d206bb25",
   "metadata": {},
   "source": [
    "## Part 1"
   ]
  },
  {
   "cell_type": "markdown",
   "id": "8234fda0-0008-41a4-9c03-38f642021ee2",
   "metadata": {},
   "source": [
    "### Manual test"
   ]
  },
  {
   "cell_type": "code",
   "execution_count": null,
   "id": "655e042a",
   "metadata": {},
   "outputs": [
    {
     "name": "stdout",
     "output_type": "stream",
     "text": [
      "[5, 2, 1, 0, 1, 2]\n",
      "11\n"
     ]
    }
   ],
   "source": [
    "lista1=[3,4,2,1,3,3]\n",
    "lista2=[4,3,5,3,9,3]\n",
    "la1=sorted(lista1, reverse=True)\n",
    "la2=sorted(lista2, reverse=True)\n",
    "print([abs(int(a)-int(b)) for a, b in zip(la1, la2)]) # without abs you can get negative result, like in this case, and answer -11 is incorrect.\n",
    "print(sum([abs(int(a)-int(b)) for a, b in zip(la1, la2)]))"
   ]
  },
  {
   "cell_type": "markdown",
   "id": "104e4611-9bcd-4fdd-b151-fe3c09f32629",
   "metadata": {},
   "source": [
    "### Input file\n",
    "\n",
    "It has the lists in two columns, will import and slice"
   ]
  },
  {
   "cell_type": "code",
   "execution_count": 2,
   "id": "f28727e5-8dc9-4537-8a71-30058663a9de",
   "metadata": {},
   "outputs": [],
   "source": [
    "text_file = open(\"day1.txt\", \"r\")\n",
    "lines = text_file.read().split()\n",
    "text_file.close()"
   ]
  },
  {
   "cell_type": "code",
   "execution_count": 3,
   "id": "da1becc6-891b-483b-aabe-739333a07250",
   "metadata": {},
   "outputs": [
    {
     "name": "stdout",
     "output_type": "stream",
     "text": [
      "['28186', '35627', '51854', '34597', '19211', '51032', '79370', '53096', '68126', '40302']\n"
     ]
    }
   ],
   "source": [
    "print(lines[:10])"
   ]
  },
  {
   "cell_type": "code",
   "execution_count": 4,
   "id": "72d82640-625f-435f-889b-b6b0be6afb3e",
   "metadata": {},
   "outputs": [
    {
     "name": "stdout",
     "output_type": "stream",
     "text": [
      "['28186', '51854', '19211', '79370', '68126', '43284', '80565', '83151', '91092', '70740']\n"
     ]
    }
   ],
   "source": [
    "l1 = lines[::2]\n",
    "print(l1[:10])"
   ]
  },
  {
   "cell_type": "code",
   "execution_count": 5,
   "id": "0c61abab-ff0e-444a-a12f-afff1f466bea",
   "metadata": {},
   "outputs": [
    {
     "name": "stdout",
     "output_type": "stream",
     "text": [
      "['99974', '99885', '99876', '99826', '99765', '99650', '99645', '99641', '99601', '99591']\n"
     ]
    }
   ],
   "source": [
    "l1s= sorted(l1, reverse=True)\n",
    "print(l1s[:10])"
   ]
  },
  {
   "cell_type": "code",
   "execution_count": 6,
   "id": "50195d28-c031-4da8-a14b-89a416d84c23",
   "metadata": {},
   "outputs": [
    {
     "name": "stdout",
     "output_type": "stream",
     "text": [
      "['35627', '34597', '51032', '53096', '40302', '25771', '99650', '70796', '74579', '98650']\n"
     ]
    }
   ],
   "source": [
    "l2 = lines[1::2]\n",
    "print(l2[:10])"
   ]
  },
  {
   "cell_type": "code",
   "execution_count": 7,
   "id": "fe4415b3-920e-483b-9a3d-08171ed2072c",
   "metadata": {},
   "outputs": [
    {
     "name": "stdout",
     "output_type": "stream",
     "text": [
      "['99689', '99650', '99650', '99650', '99650', '99650', '99650', '99650', '99650', '99650']\n"
     ]
    }
   ],
   "source": [
    "l2s= sorted(l2, reverse=True)\n",
    "print(l2s[:10])"
   ]
  },
  {
   "cell_type": "code",
   "execution_count": 8,
   "id": "c54e9364-fb3e-4b0d-9bd0-94314c566b1c",
   "metadata": {},
   "outputs": [
    {
     "name": "stdout",
     "output_type": "stream",
     "text": [
      "[285, 235, 226, 176, 115, 0, 5, 9, 49, 59]\n"
     ]
    }
   ],
   "source": [
    "diff = [abs(int(a)-int(b)) for a, b in zip(l1s, l2s)]\n",
    "print(diff[:10])"
   ]
  },
  {
   "cell_type": "code",
   "execution_count": 9,
   "id": "3a906dee-dd22-4b0f-869f-e3de6a90c1be",
   "metadata": {},
   "outputs": [
    {
     "data": {
      "text/plain": [
       "1603498"
      ]
     },
     "execution_count": 9,
     "metadata": {},
     "output_type": "execute_result"
    }
   ],
   "source": [
    "sum(diff)"
   ]
  },
  {
   "cell_type": "markdown",
   "id": "b260397d-8c55-447d-8860-e60d29bf11bb",
   "metadata": {},
   "source": [
    "### Factorized code (with help from Ananconda Assistant)"
   ]
  },
  {
   "cell_type": "code",
   "execution_count": 10,
   "id": "7e25a42f-9a90-4875-bfc2-240c243c6ebc",
   "metadata": {},
   "outputs": [],
   "source": [
    "def process_lists(list1, list2, reverse_sort=False):\n",
    "    \"\"\"\n",
    "    Processes two lists by converting elements to integers, sorting them,\n",
    "    calculating the absolute element-wise difference, and summing the differences.\n",
    "\n",
    "    Parameters:\n",
    "    - list1: First list of numbers (as strings).\n",
    "    - list2: Second list of numbers (as strings).\n",
    "    - reverse_sort: Boolean indicating whether to sort the lists in descending order.\n",
    "\n",
    "    Returns:\n",
    "    - The total sum of the absolute element-wise differences.\n",
    "\n",
    "    # Example usage\n",
    "    list1 = [\"5\", \"2\", \"9\"]\n",
    "    list2 = [\"1\", \"3\", \"4\"]\n",
    "    \n",
    "    # Sort in ascending order\n",
    "    result_asc = process_lists(list1, list2)\n",
    "    print(\"Total Sum of Absolute Differences (Ascending):\", result_asc)\n",
    "    \n",
    "    # Sort in descending order\n",
    "    result_desc = process_lists(list1, list2, reverse_sort=True)\n",
    "    print(\"Total Sum of Absolute Differences (Descending):\", result_desc)\n",
    "    \"\"\"\n",
    "    \n",
    "    # Convert elements from strings to integers\n",
    "    int_list1 = [int(x) for x in list1]\n",
    "    int_list2 = [int(x) for x in list2]\n",
    "    \n",
    "    # Sort both lists with the option to reverse\n",
    "    sorted_list1 = sorted(int_list1, reverse=reverse_sort)\n",
    "    sorted_list2 = sorted(int_list2, reverse=reverse_sort)\n",
    "    \n",
    "    # Calculate the absolute element-wise differences\n",
    "    differences = [abs(a - b) for a, b in zip(sorted_list1, sorted_list2)]\n",
    "    \n",
    "    # Sum the differences\n",
    "    total_difference = sum(differences)\n",
    "    \n",
    "    return total_difference\n"
   ]
  },
  {
   "cell_type": "markdown",
   "id": "188217ac-df4b-45ba-84ad-636d6d8f0281",
   "metadata": {},
   "source": [
    "### Using the test lists "
   ]
  },
  {
   "cell_type": "code",
   "execution_count": 11,
   "id": "998b41b2-084a-4ee6-b0be-88f718b21823",
   "metadata": {},
   "outputs": [
    {
     "name": "stdout",
     "output_type": "stream",
     "text": [
      "11\n"
     ]
    }
   ],
   "source": [
    "result_desc = process_lists(lista1, lista2, reverse_sort=True)\n",
    "print(result_desc)"
   ]
  },
  {
   "cell_type": "markdown",
   "id": "2f5f7730-3246-41cc-981c-27ce9fdd479b",
   "metadata": {},
   "source": [
    "### Using the full file"
   ]
  },
  {
   "cell_type": "code",
   "execution_count": 12,
   "id": "5bc45ca2-7b05-4517-af09-bebc70efe1f6",
   "metadata": {},
   "outputs": [
    {
     "name": "stdout",
     "output_type": "stream",
     "text": [
      "1603498\n"
     ]
    }
   ],
   "source": [
    "result_desc = process_lists(l1, l2, reverse_sort=True)\n",
    "print(result_desc)"
   ]
  },
  {
   "cell_type": "markdown",
   "id": "9dda34e0-c51b-4e97-b5d1-ced75393ea09",
   "metadata": {},
   "source": [
    "## Part 2"
   ]
  },
  {
   "cell_type": "markdown",
   "id": "5345538e-8781-45e1-b795-2f0771be199f",
   "metadata": {},
   "source": [
    "### Create a list with the counts of occurrences of lista1 elements in lista2\n"
   ]
  },
  {
   "cell_type": "code",
   "execution_count": 13,
   "id": "45abb46c-e900-42a3-a888-d1750add3350",
   "metadata": {},
   "outputs": [
    {
     "name": "stdout",
     "output_type": "stream",
     "text": [
      "[3, 1, 0, 0, 3, 3]\n"
     ]
    }
   ],
   "source": [
    "elem_counts = [lista2.count(elem) for elem in lista1]\n",
    "print(elem_counts)"
   ]
  },
  {
   "cell_type": "markdown",
   "id": "e7523cf0-b927-4bba-843c-3686f44ab3ea",
   "metadata": {},
   "source": [
    "### Rewrite as a function"
   ]
  },
  {
   "cell_type": "code",
   "execution_count": 14,
   "id": "f1f0063c-817f-4aae-9532-cabd0fe6e5e3",
   "metadata": {},
   "outputs": [],
   "source": [
    "def count_occurrences(lista1, lista2):\n",
    "    elem_counts = [lista2.count(elem) for elem in lista1]\n",
    "    return elem_counts"
   ]
  },
  {
   "cell_type": "markdown",
   "id": "bfd5b85d-7f08-4d73-90c5-9aed02532fc9",
   "metadata": {},
   "source": [
    "### Using the test lists "
   ]
  },
  {
   "cell_type": "code",
   "execution_count": 15,
   "id": "443b2792-5805-4da7-9fc5-dae9af88fb48",
   "metadata": {},
   "outputs": [
    {
     "name": "stdout",
     "output_type": "stream",
     "text": [
      "31\n"
     ]
    }
   ],
   "source": [
    "occurrences = count_occurrences(lista1, lista2)\n",
    "somma = sum(a*b for a,b in zip(lista1,occurrences))\n",
    "print(somma)"
   ]
  },
  {
   "cell_type": "markdown",
   "id": "0423874f-0526-46e4-9d1d-f7ff86cd2259",
   "metadata": {},
   "source": [
    "### Using the full file"
   ]
  },
  {
   "cell_type": "code",
   "execution_count": 16,
   "id": "c6d65e24-6152-4dc8-93f0-ba1c2f9b28c3",
   "metadata": {},
   "outputs": [
    {
     "name": "stdout",
     "output_type": "stream",
     "text": [
      "25574739\n"
     ]
    }
   ],
   "source": [
    "int_l1 = [int(x) for x in l1]\n",
    "int_l2 = [int(x) for x in l2]\n",
    "occurrences = count_occurrences(int_l1, int_l2)\n",
    "somma = sum(a*b for a,b in zip(int_l1, occurrences))\n",
    "print(somma)"
   ]
  },
  {
   "cell_type": "code",
   "execution_count": null,
   "id": "99fabad4-e41e-43aa-bac8-cabff798a302",
   "metadata": {},
   "outputs": [],
   "source": []
  }
 ],
 "metadata": {
  "kernelspec": {
   "display_name": "base",
   "language": "python",
   "name": "python3"
  },
  "language_info": {
   "codemirror_mode": {
    "name": "ipython",
    "version": 3
   },
   "file_extension": ".py",
   "mimetype": "text/x-python",
   "name": "python",
   "nbconvert_exporter": "python",
   "pygments_lexer": "ipython3",
   "version": "3.12.3"
  }
 },
 "nbformat": 4,
 "nbformat_minor": 5
}
